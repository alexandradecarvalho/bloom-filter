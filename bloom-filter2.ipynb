{
 "cells": [
  {
   "cell_type": "code",
   "execution_count": 30,
   "metadata": {},
   "outputs": [],
   "source": [
    "import numpy\n",
    "import mmh3\n",
    "\n",
    "class BloomFilter(object):\n",
    "    def __init__(self, nitems, false_positive_prob):\n",
    "        self.size = int(-(nitems * numpy.log(false_positive_prob))/(numpy.log(2)**2)) # size of the bloom filter\n",
    "        self.nhash = int((self.size/nitems) * numpy.log(2)) # number of hash functions\n",
    "\n",
    "        self.bloomf = numpy.zeros(self.size) # initializing the bloom filter as an array of size self.size with everything at 0\n",
    " \n",
    "    def add(self, item):\n",
    "        for i in range(self.nhash):\n",
    "            h = mmh3.hash(item, i) % self.size #i = seed\n",
    "            self.bloomf[h] = 1\n",
    " \n",
    "    def check(self, item):\n",
    "        for i in range(self.nhash):\n",
    "\n",
    "            h = mmh3.hash(item, i) % self.size\n",
    "\n",
    "            if self.bloomf[h] == 0:\n",
    "                return False\n",
    "\n",
    "        return True"
   ]
  },
  {
   "cell_type": "code",
   "execution_count": 31,
   "metadata": {},
   "outputs": [
    {
     "name": "stdout",
     "output_type": "stream",
     "text": [
      "4\n"
     ]
    }
   ],
   "source": [
    "n = 1003519 # TODO: Change this setting \n",
    "p = 0.05 #false positive probability\n",
    "\n",
    "titles_bf = BloomFilter(n,p)\n",
    "print(titles_bf.nhash)\n",
    "\n",
    "authors_bf = BloomFilter(n,p)\n",
    "subjects_bf = BloomFilter(n,p)"
   ]
  },
  {
   "cell_type": "code",
   "execution_count": 32,
   "metadata": {},
   "outputs": [],
   "source": [
    "import pandas as pd\n",
    "\n",
    "nlines_read = 1000\n",
    "size = 1\n",
    "while True:\n",
    "    try:\n",
    "        chunk = pd.read_csv(\"dataset/new.csv\", skiprows=range(0, size), nrows=nlines_read, names=[\"Title\", \"Author\", \"Subjects\"])\n",
    "        size += nlines_read\n",
    "    except StopIteration:\n",
    "        break\n",
    "    else:\n",
    "        for _,item in chunk.iterrows():\n",
    "            title = item[\"Title\"]\n",
    "            author = item[\"Author\"]\n",
    "            subjects = item[\"Subjects\"]\n",
    "\n",
    "            if title and isinstance(title, str):\n",
    "                titles_bf.add(str(title).split(\" /\")[0])\n",
    "\n",
    "            if author and isinstance(author, str):\n",
    "                author_name = str(author).split(\", \")\n",
    "                if (author_name[-1].replace(\"-\",\"\")).isnumeric():\n",
    "                    author_name = \",\".join(author_name[:-1])\n",
    "                else:\n",
    "                    author_name = author\n",
    "                authors_bf.add(author_name)\n",
    "\n",
    "            if subjects and isinstance(subjects, str):\n",
    "                sub_list = str(subjects).split(\", \")\n",
    "                for subject in sub_list:\n",
    "                    subjects_bf.add(subject)"
   ]
  },
  {
   "cell_type": "code",
   "execution_count": null,
   "metadata": {},
   "outputs": [],
   "source": [
    "def print_menu():\n",
    "    print(30 * \"-\" , \"WELCOME TO OUR LIBRARY\" , 30 * \"-\")\n",
    "    print(\"1. Search by Title\")\n",
    "    print(\"2. Search by Author\")\n",
    "    print(\"3. Search by Subject\")\n",
    "    print(\"0. Exit\")\n",
    "    print(67 * \"-\")\n",
    "\n",
    "def main():\n",
    "    loop = True\n",
    "\n",
    "    while loop:\n",
    "        print_menu()\n",
    "        try:\n",
    "            choice = int(input(\"Enter your choice [1-3] or 0 to quit: \"))\n",
    "        except:\n",
    "            choice = 222\n",
    "        \n",
    "        if choice==1:     \n",
    "            inpt = input(\"Enter the title: \")\n",
    "            if titles_bf.check(inpt):\n",
    "                print(\"The searched book is in our library!\")\n",
    "            else:\n",
    "                print(\"We're sorry, but we didn't find a result.\")\n",
    "        elif choice==2:     \n",
    "            inpt = input(\"Enter the author: \")\n",
    "            if authors_bf.check(inpt):\n",
    "                print(\"We have books of the searched author in our library!\")\n",
    "            else:\n",
    "                print(\"We're sorry, but we didn't find a result.\")\n",
    "        elif choice==3:     \n",
    "            inpt = input(\"Enter the subject: \")\n",
    "            if titles_bf.check(inpt):\n",
    "                print(\"We have books about the searched subject in our library!\")\n",
    "            else:\n",
    "                print(\"We're sorry, but we didn't find a result.\")\n",
    "        elif choice==0:\n",
    "            print(\"See you soon!\")\n",
    "            loop=False # This will make the while loop to end as not value of loop is set to False\n",
    "        else:\n",
    "            # Any integer inputs other than values 1-2 we print an error message\n",
    "            print(\"Wrong option selected.\")\n",
    "\n",
    "main()"
   ]
  }
 ],
 "metadata": {
  "interpreter": {
   "hash": "916dbcbb3f70747c44a77c7bcd40155683ae19c65e1c03b4aa3499c5328201f1"
  },
  "kernelspec": {
   "display_name": "Python 3.9.7 64-bit",
   "language": "python",
   "name": "python3"
  },
  "language_info": {
   "codemirror_mode": {
    "name": "ipython",
    "version": 3
   },
   "file_extension": ".py",
   "mimetype": "text/x-python",
   "name": "python",
   "nbconvert_exporter": "python",
   "pygments_lexer": "ipython3",
   "version": "3.9.7"
  },
  "orig_nbformat": 4
 },
 "nbformat": 4,
 "nbformat_minor": 2
}
