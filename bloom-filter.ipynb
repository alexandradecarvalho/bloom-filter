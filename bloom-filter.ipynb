{
 "cells": [
  {
   "cell_type": "code",
   "execution_count": 6,
   "metadata": {},
   "outputs": [
    {
     "name": "stdout",
     "output_type": "stream",
     "text": [
      "Collecting mmh3\n",
      "  Downloading mmh3-3.0.0-cp39-cp39-manylinux2010_x86_64.whl (49 kB)\n",
      "\u001b[K     |████████████████████████████████| 49 kB 1.8 MB/s \n",
      "\u001b[?25hInstalling collected packages: mmh3\n",
      "Successfully installed mmh3-3.0.0\n"
     ]
    }
   ],
   "source": [
    "import sys\n",
    "!{sys.executable} -m pip install mmh3"
   ]
  },
  {
   "cell_type": "code",
   "execution_count": 11,
   "metadata": {},
   "outputs": [],
   "source": [
    "import numpy\n",
    "import mmh3 \n",
    " \n",
    "class BloomFilter(object):\n",
    "    def __init__(self, items_count, fp_prob):\n",
    "        self.m = items_count\n",
    "        self.fp_prob = fp_prob # False possible probability in decimal\n",
    "        self.size = self.get_size(items_count, fp_prob) # Size of bit array to use\n",
    "        self.bloom = numpy.zeros(self.size)\n",
    "        self.hash_count = self.get_hash_count(self.size, items_count)\n",
    " \n",
    "    def add(self, item):\n",
    "        digests = []\n",
    "        for i in range(self.hash_count):\n",
    " \n",
    "            digest = mmh3.hash(item, i) % self.size #i = seed\n",
    "            digests.append(digest)\n",
    " \n",
    "            self.bloom[digest] = 1\n",
    " \n",
    "    def check(self, item):\n",
    "        for i in range(self.hash_count):\n",
    "\n",
    "            digest = mmh3.hash(item, i) % self.size\n",
    "\n",
    "            if self.bloom[digest] == 0:\n",
    "                return False\n",
    "\n",
    "        return True\n",
    "\n",
    "    def get_size(self, n, p):\n",
    "        return int(-(n * numpy.log(p))/(numpy.log(2)**2))\n",
    "\n",
    "    def get_hash_count(self, m, n):\n",
    "        return int((m/n) * numpy.log(2))"
   ]
  },
  {
   "cell_type": "code",
   "execution_count": null,
   "metadata": {},
   "outputs": [],
   "source": []
  }
 ],
 "metadata": {
  "interpreter": {
   "hash": "916dbcbb3f70747c44a77c7bcd40155683ae19c65e1c03b4aa3499c5328201f1"
  },
  "kernelspec": {
   "display_name": "Python 3.9.7 64-bit",
   "language": "python",
   "name": "python3"
  },
  "language_info": {
   "codemirror_mode": {
    "name": "ipython",
    "version": 3
   },
   "file_extension": ".py",
   "mimetype": "text/x-python",
   "name": "python",
   "nbconvert_exporter": "python",
   "pygments_lexer": "ipython3",
   "version": "3.9.7"
  },
  "orig_nbformat": 4
 },
 "nbformat": 4,
 "nbformat_minor": 2
}
